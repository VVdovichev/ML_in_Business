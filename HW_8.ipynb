{
  "nbformat": 4,
  "nbformat_minor": 0,
  "metadata": {
    "colab": {
      "name": "HW_8.ipynb",
      "provenance": [],
      "collapsed_sections": [],
      "authorship_tag": "ABX9TyPSDug5VTve05P7tB5uYEB5",
      "include_colab_link": true
    },
    "kernelspec": {
      "name": "python3",
      "display_name": "Python 3"
    },
    "language_info": {
      "name": "python"
    }
  },
  "cells": [
    {
      "cell_type": "markdown",
      "metadata": {
        "id": "view-in-github",
        "colab_type": "text"
      },
      "source": [
        "<a href=\"https://colab.research.google.com/github/VVdovichev/ML_in_Business/blob/main/HW_8.ipynb\" target=\"_parent\"><img src=\"https://colab.research.google.com/assets/colab-badge.svg\" alt=\"Open In Colab\"/></a>"
      ]
    },
    {
      "cell_type": "markdown",
      "source": [
        "## Теоритическая часть."
      ],
      "metadata": {
        "id": "Jj2B0-khc641"
      }
    },
    {
      "cell_type": "markdown",
      "source": [
        "__1.__  Если мы рассчитали 95% доверительный интервал для среднего значения, то какие из следующих утверждений являются верными?\n",
        "Выберите несколько вариантов и попытайтесь объяснить свой выбор:\n",
        "\n",
        "1) Если многократно повторять эксперимент, то 95 % выборочных средних значений будут принадлежать рассчитанному нами доверительному интервалу.\n",
        "\n",
        "2) Мы можем быть на 95% уверены, что среднее значение в генеральной совокупности принадлежит рассчитанному доверительному интервалу.\n",
        "\n",
        "3) Если многократно повторять эксперимент, для каждой выборки рассчитывать свой доверительный интервал, то в 95 % случаев истинное среднее будет находиться внутри доверительного интервала.\n",
        "\n",
        "4) Среднее значение в генеральной совокупности точно превышает нижнюю границу 95% доверительного интервала.\n",
        "\n",
        "5) Среднее значение в генеральной совокупности точно принадлежит рассчитанному доверительному интервалу."
      ],
      "metadata": {
        "id": "3Ea8zP1qdBJI"
      }
    },
    {
      "cell_type": "markdown",
      "source": [
        "### Ответ 1,3 так как 95% доверительный интервал будет включать истинное математическое ожидание генеральной совокупности в 95% всех построенных интервалах."
      ],
      "metadata": {
        "id": "wcTscJFwgzyw"
      }
    },
    {
      "cell_type": "markdown",
      "source": [
        "__2.__  Если мы увеличиваем объем выборки в два раза (при условии, что показатель стандартного отклонения остается неизменным), то 95% доверительный интервал\n",
        "Выберите один вариант из списка\n",
        "\n",
        "1) стал более узким \\\\\n",
        "2) возможны оба варианта \\\\\n",
        "3) стал более широким"
      ],
      "metadata": {
        "id": "RcUlwTrJhvSQ"
      }
    },
    {
      "cell_type": "markdown",
      "source": [
        "### Ответ 1, интервал станет более узким."
      ],
      "metadata": {
        "id": "KyXvYs-6i3LC"
      }
    },
    {
      "cell_type": "markdown",
      "source": [
        "__3.__ В центре 95% доверительного интервала, рассчитанного по выборочным значениям, находится:\n",
        "Выберите один вариант из списка\n",
        "\n",
        "1) Значение стандартной ошибки среднего \\\\\n",
        "2) Выборочное среднее значение \\\\\n",
        "3) Среднее значение генеральной совокупности"
      ],
      "metadata": {
        "id": "3laQsSnAi_ak"
      }
    },
    {
      "cell_type": "markdown",
      "source": [
        "### Ответ 3"
      ],
      "metadata": {
        "id": "hE50yoCpjI7V"
      }
    },
    {
      "cell_type": "markdown",
      "source": [
        "__4.__  Часто на практике нулевая гипотеза отклоняется, и различия считаются статистически достоверными, если p < 0,05. Однако часто в статистике используется более жесткий критерий достоверности различий, например, при условии, что p < 0,01. Значение p-уровня значимости, которое выбирается, в качестве порога обозначается буквой α (альфа). Например, если исследователь решил, что α = 0,05, то и нулевая гипотеза будет отклоняться при условии, что p < 0,05.\n",
        "Если в определенной ситуации весьма рискованно отклонить нулевую гипотезу, когда она на самом деле верна, то лучше использовать показатель α равный\n",
        "Выберите один вариант из списка\n",
        "\n",
        "1) 0,1 \\\\\n",
        "2) 0,001 \\\\\n",
        "3) 0,05 \\\\\n",
        "4) 0,5"
      ],
      "metadata": {
        "id": "Srd4M57IjaCA"
      }
    },
    {
      "cell_type": "markdown",
      "source": [
        "### Ответ 2, данное значение крайне мало в сравнении с 0,05 ,и  отражает вероятность ошиьки 1го рода."
      ],
      "metadata": {
        "id": "lCHitpH_lALo"
      }
    },
    {
      "cell_type": "markdown",
      "source": [
        "__5.__ Данные некоторого исследования сообщают нам, что средний рост детей в 14 лет составляет 166 сантиметров. Однако это лишь выборочная оценка, и исследователи рассчитали 95% доверительный интервал, который составил [160, 172]. Укажите верные утверждения:\n",
        "Выберите несколько вариантов и попытайтесь объяснить свой выбор:\n",
        "\n",
        "1) У нас достаточно оснований отклонить нулевую гипотезу, что среднее в генеральной совокупности равняется 173. \\\\\n",
        "2) Вероятность того, что истинное среднее значение больше 172, составляет\n",
        "0,01. \\\\\n",
        "3) У нас достаточно оснований отклонить нулевую гипотезу, что среднее в генеральной совокупности равняется 158. \\\\\n",
        "4) Доверительный интервал не может иметь такие границы, т. к. выборочное стандартное отклонение равняется 10, следовательно доверительный интервал должен быть значительно шире."
      ],
      "metadata": {
        "id": "2yllH-RSlUdE"
      }
    },
    {
      "cell_type": "markdown",
      "source": [
        "### Ответ 1,3 так как значения не входят в границы интервала."
      ],
      "metadata": {
        "id": "VUo_WszFlbYk"
      }
    },
    {
      "cell_type": "markdown",
      "source": [
        "__6.__ Предположим, нулевой гипотезой вашего исследования являлось предположение, что конверсия в генеральной совокупности равняется 0.4. Вы получили p = 0,12 и не смогли отклонить нулевую гипотезу. Однако позже выяснилось, что конверсия в генеральной совокупности действиетльно равна 0.4. Как можно оценить результаты?\n",
        "Какой вариант корректный по вашему мнению и почему? \\\\\n",
        "1) Вы не совершали ни ошибку первого рода, ни ошибку второго рода. \\\\\n",
        "2) Вы совершили ошибку первого рода \\\\\n",
        "3) Вы совершили ошибку второго рода"
      ],
      "metadata": {
        "id": "2427b55CnsBU"
      }
    },
    {
      "cell_type": "markdown",
      "source": [
        "### Ответ 1, нулевая гипотеза верна."
      ],
      "metadata": {
        "id": "4u_DrPrln_jg"
      }
    },
    {
      "cell_type": "markdown",
      "source": [
        "## Практическая часть."
      ],
      "metadata": {
        "id": "DooGs2PyniVJ"
      }
    },
    {
      "cell_type": "code",
      "source": [
        "import pandas as pd\n",
        "import numpy as np\n",
        "\n",
        "import statsmodels.api as sm\n",
        "import statsmodels\n",
        "\n",
        "from scipy.stats import mannwhitneyu"
      ],
      "metadata": {
        "id": "akJOgODjdANf"
      },
      "execution_count": 36,
      "outputs": []
    },
    {
      "cell_type": "code",
      "source": [
        "df = pd.read_csv('ab_datas.csv')\n",
        "df.info()"
      ],
      "metadata": {
        "colab": {
          "base_uri": "https://localhost:8080/"
        },
        "id": "G9_Sd1GLnl-c",
        "outputId": "46f85504-f5df-42e5-d803-c8632414dcdb"
      },
      "execution_count": 37,
      "outputs": [
        {
          "output_type": "stream",
          "name": "stdout",
          "text": [
            "<class 'pandas.core.frame.DataFrame'>\n",
            "RangeIndex: 294478 entries, 0 to 294477\n",
            "Data columns (total 6 columns):\n",
            " #   Column        Non-Null Count   Dtype \n",
            "---  ------        --------------   ----- \n",
            " 0   user_id       294478 non-null  int64 \n",
            " 1   timestamp     294478 non-null  object\n",
            " 2   group         294478 non-null  object\n",
            " 3   landing_page  294478 non-null  object\n",
            " 4   converted     294478 non-null  int64 \n",
            " 5   revenue       294478 non-null  int64 \n",
            "dtypes: int64(3), object(3)\n",
            "memory usage: 13.5+ MB\n"
          ]
        }
      ]
    },
    {
      "cell_type": "code",
      "source": [
        "df.isna().sum()"
      ],
      "metadata": {
        "colab": {
          "base_uri": "https://localhost:8080/"
        },
        "id": "y9EdMmQpqT7t",
        "outputId": "129fcfb6-34f6-4302-f21e-4c88303c685f"
      },
      "execution_count": 38,
      "outputs": [
        {
          "output_type": "execute_result",
          "data": {
            "text/plain": [
              "user_id         0\n",
              "timestamp       0\n",
              "group           0\n",
              "landing_page    0\n",
              "converted       0\n",
              "revenue         0\n",
              "dtype: int64"
            ]
          },
          "metadata": {},
          "execution_count": 38
        }
      ]
    },
    {
      "cell_type": "code",
      "source": [
        "df.describe()"
      ],
      "metadata": {
        "colab": {
          "base_uri": "https://localhost:8080/",
          "height": 300
        },
        "id": "8T87R1o8qeGA",
        "outputId": "8af92e6d-5d4c-41f9-a37d-769a361ce547"
      },
      "execution_count": 39,
      "outputs": [
        {
          "output_type": "execute_result",
          "data": {
            "text/html": [
              "\n",
              "  <div id=\"df-0afdc64c-46de-4ccb-97b6-16bedd28a170\">\n",
              "    <div class=\"colab-df-container\">\n",
              "      <div>\n",
              "<style scoped>\n",
              "    .dataframe tbody tr th:only-of-type {\n",
              "        vertical-align: middle;\n",
              "    }\n",
              "\n",
              "    .dataframe tbody tr th {\n",
              "        vertical-align: top;\n",
              "    }\n",
              "\n",
              "    .dataframe thead th {\n",
              "        text-align: right;\n",
              "    }\n",
              "</style>\n",
              "<table border=\"1\" class=\"dataframe\">\n",
              "  <thead>\n",
              "    <tr style=\"text-align: right;\">\n",
              "      <th></th>\n",
              "      <th>user_id</th>\n",
              "      <th>converted</th>\n",
              "      <th>revenue</th>\n",
              "    </tr>\n",
              "  </thead>\n",
              "  <tbody>\n",
              "    <tr>\n",
              "      <th>count</th>\n",
              "      <td>294478.000000</td>\n",
              "      <td>294478.000000</td>\n",
              "      <td>294478.000000</td>\n",
              "    </tr>\n",
              "    <tr>\n",
              "      <th>mean</th>\n",
              "      <td>787974.124733</td>\n",
              "      <td>0.119659</td>\n",
              "      <td>101.967719</td>\n",
              "    </tr>\n",
              "    <tr>\n",
              "      <th>std</th>\n",
              "      <td>91210.823776</td>\n",
              "      <td>0.324563</td>\n",
              "      <td>103.602744</td>\n",
              "    </tr>\n",
              "    <tr>\n",
              "      <th>min</th>\n",
              "      <td>630000.000000</td>\n",
              "      <td>0.000000</td>\n",
              "      <td>0.000000</td>\n",
              "    </tr>\n",
              "    <tr>\n",
              "      <th>25%</th>\n",
              "      <td>709032.250000</td>\n",
              "      <td>0.000000</td>\n",
              "      <td>0.000000</td>\n",
              "    </tr>\n",
              "    <tr>\n",
              "      <th>50%</th>\n",
              "      <td>787933.500000</td>\n",
              "      <td>0.000000</td>\n",
              "      <td>100.000000</td>\n",
              "    </tr>\n",
              "    <tr>\n",
              "      <th>75%</th>\n",
              "      <td>866911.750000</td>\n",
              "      <td>0.000000</td>\n",
              "      <td>250.000000</td>\n",
              "    </tr>\n",
              "    <tr>\n",
              "      <th>max</th>\n",
              "      <td>945999.000000</td>\n",
              "      <td>1.000000</td>\n",
              "      <td>250.000000</td>\n",
              "    </tr>\n",
              "  </tbody>\n",
              "</table>\n",
              "</div>\n",
              "      <button class=\"colab-df-convert\" onclick=\"convertToInteractive('df-0afdc64c-46de-4ccb-97b6-16bedd28a170')\"\n",
              "              title=\"Convert this dataframe to an interactive table.\"\n",
              "              style=\"display:none;\">\n",
              "        \n",
              "  <svg xmlns=\"http://www.w3.org/2000/svg\" height=\"24px\"viewBox=\"0 0 24 24\"\n",
              "       width=\"24px\">\n",
              "    <path d=\"M0 0h24v24H0V0z\" fill=\"none\"/>\n",
              "    <path d=\"M18.56 5.44l.94 2.06.94-2.06 2.06-.94-2.06-.94-.94-2.06-.94 2.06-2.06.94zm-11 1L8.5 8.5l.94-2.06 2.06-.94-2.06-.94L8.5 2.5l-.94 2.06-2.06.94zm10 10l.94 2.06.94-2.06 2.06-.94-2.06-.94-.94-2.06-.94 2.06-2.06.94z\"/><path d=\"M17.41 7.96l-1.37-1.37c-.4-.4-.92-.59-1.43-.59-.52 0-1.04.2-1.43.59L10.3 9.45l-7.72 7.72c-.78.78-.78 2.05 0 2.83L4 21.41c.39.39.9.59 1.41.59.51 0 1.02-.2 1.41-.59l7.78-7.78 2.81-2.81c.8-.78.8-2.07 0-2.86zM5.41 20L4 18.59l7.72-7.72 1.47 1.35L5.41 20z\"/>\n",
              "  </svg>\n",
              "      </button>\n",
              "      \n",
              "  <style>\n",
              "    .colab-df-container {\n",
              "      display:flex;\n",
              "      flex-wrap:wrap;\n",
              "      gap: 12px;\n",
              "    }\n",
              "\n",
              "    .colab-df-convert {\n",
              "      background-color: #E8F0FE;\n",
              "      border: none;\n",
              "      border-radius: 50%;\n",
              "      cursor: pointer;\n",
              "      display: none;\n",
              "      fill: #1967D2;\n",
              "      height: 32px;\n",
              "      padding: 0 0 0 0;\n",
              "      width: 32px;\n",
              "    }\n",
              "\n",
              "    .colab-df-convert:hover {\n",
              "      background-color: #E2EBFA;\n",
              "      box-shadow: 0px 1px 2px rgba(60, 64, 67, 0.3), 0px 1px 3px 1px rgba(60, 64, 67, 0.15);\n",
              "      fill: #174EA6;\n",
              "    }\n",
              "\n",
              "    [theme=dark] .colab-df-convert {\n",
              "      background-color: #3B4455;\n",
              "      fill: #D2E3FC;\n",
              "    }\n",
              "\n",
              "    [theme=dark] .colab-df-convert:hover {\n",
              "      background-color: #434B5C;\n",
              "      box-shadow: 0px 1px 3px 1px rgba(0, 0, 0, 0.15);\n",
              "      filter: drop-shadow(0px 1px 2px rgba(0, 0, 0, 0.3));\n",
              "      fill: #FFFFFF;\n",
              "    }\n",
              "  </style>\n",
              "\n",
              "      <script>\n",
              "        const buttonEl =\n",
              "          document.querySelector('#df-0afdc64c-46de-4ccb-97b6-16bedd28a170 button.colab-df-convert');\n",
              "        buttonEl.style.display =\n",
              "          google.colab.kernel.accessAllowed ? 'block' : 'none';\n",
              "\n",
              "        async function convertToInteractive(key) {\n",
              "          const element = document.querySelector('#df-0afdc64c-46de-4ccb-97b6-16bedd28a170');\n",
              "          const dataTable =\n",
              "            await google.colab.kernel.invokeFunction('convertToInteractive',\n",
              "                                                     [key], {});\n",
              "          if (!dataTable) return;\n",
              "\n",
              "          const docLinkHtml = 'Like what you see? Visit the ' +\n",
              "            '<a target=\"_blank\" href=https://colab.research.google.com/notebooks/data_table.ipynb>data table notebook</a>'\n",
              "            + ' to learn more about interactive tables.';\n",
              "          element.innerHTML = '';\n",
              "          dataTable['output_type'] = 'display_data';\n",
              "          await google.colab.output.renderOutput(dataTable, element);\n",
              "          const docLink = document.createElement('div');\n",
              "          docLink.innerHTML = docLinkHtml;\n",
              "          element.appendChild(docLink);\n",
              "        }\n",
              "      </script>\n",
              "    </div>\n",
              "  </div>\n",
              "  "
            ],
            "text/plain": [
              "             user_id      converted        revenue\n",
              "count  294478.000000  294478.000000  294478.000000\n",
              "mean   787974.124733       0.119659     101.967719\n",
              "std     91210.823776       0.324563     103.602744\n",
              "min    630000.000000       0.000000       0.000000\n",
              "25%    709032.250000       0.000000       0.000000\n",
              "50%    787933.500000       0.000000     100.000000\n",
              "75%    866911.750000       0.000000     250.000000\n",
              "max    945999.000000       1.000000     250.000000"
            ]
          },
          "metadata": {},
          "execution_count": 39
        }
      ]
    },
    {
      "cell_type": "markdown",
      "source": [
        "Пропусков и выбросов нет."
      ],
      "metadata": {
        "id": "og5YCf2orKrZ"
      }
    },
    {
      "cell_type": "code",
      "source": [
        "convert_contr = sum(df.query(\"group == 'control'\")['converted'])\n",
        "convert_treat = sum(df.query(\"group == 'treatment'\")['converted'])\n",
        "n_rows = df.shape[0]\n",
        "#объем тестовой группы\n",
        "n_rows_treat = len(df[df['group'] == 'treatment'])\n",
        "\n",
        "#объем контрольной группы\n",
        "n_rows_contr = n_rows-n_rows_treat"
      ],
      "metadata": {
        "id": "OboyrJtsrOB1"
      },
      "execution_count": 40,
      "outputs": []
    },
    {
      "cell_type": "code",
      "source": [
        "z_score, p_value = sm.stats.proportions_ztest([convert_treat, convert_contr], [n_rows_treat, n_rows_contr], \n",
        "                                              alternative='larger')\n",
        "\n",
        "print(f\"Z-статистика={z_score},  p_value={p_value}\")"
      ],
      "metadata": {
        "colab": {
          "base_uri": "https://localhost:8080/"
        },
        "id": "hB33Z1BTssaK",
        "outputId": "c12f3524-b699-466b-ab5c-2262afd253d6"
      },
      "execution_count": 41,
      "outputs": [
        {
          "output_type": "stream",
          "name": "stdout",
          "text": [
            "Z-статистика=-1.2369217547321678,  p_value=0.8919419336512124\n"
          ]
        }
      ]
    },
    {
      "cell_type": "code",
      "source": [
        "t_score, p_value, _ = statsmodels.stats.weightstats.ttest_ind(df.query(\"group == 'treatment'\")['converted'],\n",
        "                                                              df.query(\"group == 'control'\")['converted'],\n",
        "                                                              alternative=\"larger\",\n",
        "                                                              usevar='unequal')\n",
        "print(f\"T-статистика={t_score},  p_value={p_value}\")"
      ],
      "metadata": {
        "colab": {
          "base_uri": "https://localhost:8080/"
        },
        "id": "_-6o8wz1tdpx",
        "outputId": "87043c78-b4a2-4cad-8e10-72378e2ccc07"
      },
      "execution_count": 42,
      "outputs": [
        {
          "output_type": "stream",
          "name": "stdout",
          "text": [
            "T-статистика=-1.2369191070650731,  p_value=0.8919409489056533\n"
          ]
        }
      ]
    },
    {
      "cell_type": "code",
      "source": [
        "w_score, p_value = mannwhitneyu(df.query(\"group == 'treatment'\")['converted'], \n",
        "                         df.query(\"group == 'control'\")['converted'],\n",
        "                         alternative=\"greater\")\n",
        "print(f\"T-статистика={w_score},  p_value={p_value}\")"
      ],
      "metadata": {
        "colab": {
          "base_uri": "https://localhost:8080/"
        },
        "id": "rKfCSOGQtt8s",
        "outputId": "486aaf62-e3cc-4b0e-d53e-aae8a5a0bb07"
      },
      "execution_count": 43,
      "outputs": [
        {
          "output_type": "stream",
          "name": "stdout",
          "text": [
            "T-статистика=10823622516.0,  p_value=0.8919415509213815\n"
          ]
        }
      ]
    },
    {
      "cell_type": "markdown",
      "source": [
        "### Все три критерия показали большую значимость альтернативной гипотезы."
      ],
      "metadata": {
        "id": "LNas-BSbuYN5"
      }
    }
  ]
}